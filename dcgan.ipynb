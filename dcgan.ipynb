{
  "nbformat": 4,
  "nbformat_minor": 0,
  "metadata": {
    "colab": {
      "provenance": [],
      "collapsed_sections": [
        "ZHYv73_SENy3"
      ],
      "authorship_tag": "ABX9TyO0rYvvz0STB5FI06eqB6im",
      "include_colab_link": true
    },
    "kernelspec": {
      "name": "python3",
      "display_name": "Python 3"
    },
    "language_info": {
      "name": "python"
    },
    "accelerator": "GPU",
    "gpuClass": "standard"
  },
  "cells": [
    {
      "cell_type": "markdown",
      "metadata": {
        "id": "view-in-github",
        "colab_type": "text"
      },
      "source": [
        "<a href=\"https://colab.research.google.com/github/EmiliaComputing/Machine-Learning/blob/main/dcgan.ipynb\" target=\"_parent\"><img src=\"https://colab.research.google.com/assets/colab-badge.svg\" alt=\"Open In Colab\"/></a>"
      ]
    },
    {
      "cell_type": "markdown",
      "source": [
        "#Import and Install\n",
        "*Will install libraries only if one of the libraries has not already been installed on the server, install commands are not written here.*"
      ],
      "metadata": {
        "id": "ZHYv73_SENy3"
      }
    },
    {
      "cell_type": "code",
      "execution_count": null,
      "metadata": {
        "id": "1vgn39x-zgF5"
      },
      "outputs": [],
      "source": [
        "import tensorflow as tf\n",
        "from tensorflow import keras\n",
        "from tensorflow.keras import layers\n",
        "import matplotlib.image as mpimg\n",
        "import numpy as np\n",
        "import matplotlib.pyplot as plt\n",
        "from tensorflow.keras.utils import array_to_img\n",
        "from PIL import Image\n",
        "import os\n",
        "import gdown\n",
        "import keras\n",
        "import random\n",
        "from zipfile import ZipFile"
      ]
    },
    {
      "cell_type": "markdown",
      "source": [
        "#Data\n",
        "\n",
        "1. Unzip the data\n",
        "2. Define the dataset\n",
        "3. Get ready to display a random image from the dataset\n",
        "4. Make a list with all the images in\n",
        "5. Choose a random integer lower than 30,000\n",
        "6. Display a random image from the datset using that integer"
      ],
      "metadata": {
        "id": "OpIpde4pER58"
      }
    },
    {
      "cell_type": "code",
      "source": [
        "def data():\n",
        "    global dataset\n",
        "    #Unzip\n",
        "    with ZipFile(\"/content/celebA.zip\", \"r\") as zip:\n",
        "        zip.extractall(\"celebAgan\")\n",
        "    \n",
        "    #Define dataset\n",
        "    data_dir = \"/content/celebAgan/celebA\"\n",
        "    print(\"FILES FOUND: \")\n",
        "    dataset = keras.utils.image_dataset_from_directory(data_dir, label_mode=None, image_size=(64, 64), batch_size=32).map(lambda x: x / 255.0)\n",
        "\n",
        "\n",
        "    #Get ready to display a random image from the dataset\n",
        "    image_files = ([os.path.join(data_dir, f) \n",
        "    for f in os.listdir(data_dir)])\n",
        "\n",
        "    #Make a list with all the images in and resize to make them smaller so that the programme runs faster\n",
        "    images = []\n",
        "    for file_path in image_files:\n",
        "        img = Image.open(file_path).resize((64, 64))\n",
        "        img_array = np.array(img) / 255.0\n",
        "        images.append(img_array)\n",
        "\n",
        "    #Choose a random integer between 0 and the length of the list with all the images in (x)\n",
        "    x = random.randint(0, len(image_files))\n",
        "\n",
        "    #Display value x of the list\n",
        "    plt.grid(False)\n",
        "    plt.axis(\"off\")\n",
        "    print(\"\\nA RANDOM IMAGE FROM THE DATSET:\")\n",
        "    plt.imshow(mpimg.imread(image_files[x]))\n"
      ],
      "metadata": {
        "id": "C1e3GK4g0Ejm"
      },
      "execution_count": null,
      "outputs": []
    },
    {
      "cell_type": "code",
      "source": [
        "#Run the code in the cell above\n",
        "data()"
      ],
      "metadata": {
        "colab": {
          "base_uri": "https://localhost:8080/",
          "height": 122
        },
        "id": "U2L4Kojh0TcX",
        "outputId": "de16fb81-9b38-4e6b-eb3c-7ccfa90ebdb7"
      },
      "execution_count": null,
      "outputs": [
        {
          "output_type": "stream",
          "name": "stdout",
          "text": [
            "FILES FOUND: \n",
            "Found 30000 files belonging to 1 classes.\n",
            "\n",
            "A RANDOM IMAGE FROM THE DATSET:\n"
          ]
        },
        {
          "output_type": "display_data",
          "data": {
            "text/plain": [
              "<Figure size 640x480 with 1 Axes>"
            ],
            "image/png": "[encoded data removed]"
          },
          "metadata": {}
        }
      ]
    },
    {
      "cell_type": "markdown",
      "source": [
        "#Create the Discriminator and the Generator"
      ],
      "metadata": {
        "id": "lI_2nfE_Gi0k"
      }
    },
    {
      "cell_type": "code",
      "source": [
        "def d():\n",
        "  global discriminator\n",
        "  discriminator = keras.Sequential(\n",
        "      [\n",
        "          keras.Input(shape=(64, 64, 3)),\n",
        "          layers.Conv2D(64, kernel_size=4, strides=2, padding=\"same\"),\n",
        "          layers.LeakyReLU(alpha=0.3),\n",
        "          layers.Conv2D(128, kernel_size=4, strides=2, padding=\"same\"),\n",
        "          layers.LeakyReLU(alpha=0.3),\n",
        "          layers.Conv2D(128, kernel_size=4, strides=2, padding=\"same\"),\n",
        "          layers.LeakyReLU(alpha=0.3),\n",
        "          layers.Flatten(),\n",
        "          layers.Dropout(0.2),\n",
        "          layers.Dense(1, activation=\"sigmoid\"),\n",
        "      ],\n",
        "      name=\"discriminator\",\n",
        "  )\n",
        "  discriminator.summary()"
      ],
      "metadata": {
        "id": "vyNpxf4P0Ya3"
      },
      "execution_count": null,
      "outputs": []
    },
    {
      "cell_type": "code",
      "source": [
        "latent_dim = 64\n",
        "\n",
        "def g():\n",
        "  global generator\n",
        "  generator = keras.Sequential(\n",
        "      [\n",
        "          keras.Input(shape=(latent_dim,)),\n",
        "          layers.Dense(8 * 8 * 128),\n",
        "          layers.Reshape((8, 8, 128)),\n",
        "          layers.Conv2DTranspose(128, kernel_size=4, strides=2, padding=\"same\"),\n",
        "          layers.LeakyReLU(alpha=0.8),\n",
        "          layers.Conv2DTranspose(256, kernel_size=4, strides=2, padding=\"same\"),\n",
        "          layers.LeakyReLU(alpha=0.8),\n",
        "          layers.Conv2DTranspose(512, kernel_size=4, strides=2, padding=\"same\"),\n",
        "          layers.LeakyReLU(alpha=0.8),\n",
        "          layers.Conv2D(3, kernel_size=5, padding=\"same\", activation=\"sigmoid\"),\n",
        "      ],\n",
        "      name=\"generator\",\n",
        "  )\n",
        "  generator.summary()"
      ],
      "metadata": {
        "id": "QzSqxVGA0cbW"
      },
      "execution_count": null,
      "outputs": []
    },
    {
      "cell_type": "code",
      "source": [
        "print(\"DISCRIMINATOR SUMMARY\")\n",
        "d()\n",
        "print(\"GENERATOR SUMMARY\")\n",
        "g()"
      ],
      "metadata": {
        "id": "W4zje8G3-Zps",
        "colab": {
          "base_uri": "https://localhost:8080/"
        },
        "outputId": "3408cc4a-db59-4399-c56c-0ac0b9794c74"
      },
      "execution_count": null,
      "outputs": [
        {
          "output_type": "stream",
          "name": "stdout",
          "text": [
            "DISCRIMINATOR SUMMARY\n",
            "Model: \"discriminator\"\n",
            "_________________________________________________________________\n",
            " Layer (type)                Output Shape              Param #   \n",
            "=================================================================\n",
            " conv2d (Conv2D)             (None, 32, 32, 64)        3136      \n",
            "                                                                 \n",
            " leaky_re_lu (LeakyReLU)     (None, 32, 32, 64)        0         \n",
            "                                                                 \n",
            " conv2d_1 (Conv2D)           (None, 16, 16, 128)       131200    \n",
            "                                                                 \n",
            " leaky_re_lu_1 (LeakyReLU)   (None, 16, 16, 128)       0         \n",
            "                                                                 \n",
            " conv2d_2 (Conv2D)           (None, 8, 8, 128)         262272    \n",
            "                                                                 \n",
            " leaky_re_lu_2 (LeakyReLU)   (None, 8, 8, 128)         0         \n",
            "                                                                 \n",
            " flatten (Flatten)           (None, 8192)              0         \n",
            "                                                                 \n",
            " dropout (Dropout)           (None, 8192)              0         \n",
            "                                                                 \n",
            " dense (Dense)               (None, 1)                 8193      \n",
            "                                                                 \n",
            "=================================================================\n",
            "Total params: 404,801\n",
            "Trainable params: 404,801\n",
            "Non-trainable params: 0\n",
            "_________________________________________________________________\n",
            "GENERATOR SUMMARY\n",
            "Model: \"generator\"\n",
            "_________________________________________________________________\n",
            " Layer (type)                Output Shape              Param #   \n",
            "=================================================================\n",
            " dense_1 (Dense)             (None, 8192)              532480    \n",
            "                                                                 \n",
            " reshape (Reshape)           (None, 8, 8, 128)         0         \n",
            "                                                                 \n",
            " conv2d_transpose (Conv2DTra  (None, 16, 16, 128)      262272    \n",
            " nspose)                                                         \n",
            "                                                                 \n",
            " leaky_re_lu_3 (LeakyReLU)   (None, 16, 16, 128)       0         \n",
            "                                                                 \n",
            " conv2d_transpose_1 (Conv2DT  (None, 32, 32, 256)      524544    \n",
            " ranspose)                                                       \n",
            "                                                                 \n",
            " leaky_re_lu_4 (LeakyReLU)   (None, 32, 32, 256)       0         \n",
            "                                                                 \n",
            " conv2d_transpose_2 (Conv2DT  (None, 64, 64, 512)      2097664   \n",
            " ranspose)                                                       \n",
            "                                                                 \n",
            " leaky_re_lu_5 (LeakyReLU)   (None, 64, 64, 512)       0         \n",
            "                                                                 \n",
            " conv2d_3 (Conv2D)           (None, 64, 64, 3)         38403     \n",
            "                                                                 \n",
            "=================================================================\n",
            "Total params: 3,455,363\n",
            "Trainable params: 3,455,363\n",
            "Non-trainable params: 0\n",
            "_________________________________________________________________\n"
          ]
        }
      ]
    },
    {
      "cell_type": "markdown",
      "source": [
        "#Run"
      ],
      "metadata": {
        "id": "Zwk12QjJwtGC"
      }
    },
    {
      "cell_type": "code",
      "source": [
        "class GAN(keras.Model):\n",
        "    def __init__(self, discriminator, generator, latent_dim):\n",
        "        super().__init__()\n",
        "        self.discriminator = discriminator\n",
        "        self.generator = generator\n",
        "        self.latent_dim = latent_dim\n",
        "\n",
        "    def compile(self, d_optimizer, g_optimizer, loss_fn):\n",
        "        super().compile()\n",
        "        self.d_optimizer = d_optimizer\n",
        "        self.g_optimizer = g_optimizer\n",
        "        self.loss_fn = loss_fn\n",
        "        self.d_loss_metric = keras.metrics.Mean(name=\"d_loss\")\n",
        "        self.g_loss_metric = keras.metrics.Mean(name=\"g_loss\")\n",
        "\n",
        "    @property\n",
        "    def metrics(self):\n",
        "        return [self.d_loss_metric, self.g_loss_metric]\n",
        "\n",
        "    def train_step(self, real_images=dataset):\n",
        "        # Sample random points in the latent space\n",
        "        batch_size = tf.shape(real_images)[0]\n",
        "        random_latent_vectors = tf.random.normal(shape=(batch_size, self.latent_dim))\n",
        "\n",
        "        # Decode them to fake images\n",
        "        generated_images = self.generator(random_latent_vectors)\n",
        "\n",
        "        # Combine them with real images\n",
        "        combined_images = tf.concat([generated_images, real_images], axis=0)\n",
        "\n",
        "        # Assemble labels discriminating real from fake images\n",
        "        labels = tf.concat(\n",
        "            [tf.ones((batch_size, 1)), tf.zeros((batch_size, 1))], axis=0\n",
        "        )\n",
        "        # add noise\n",
        "        labels += random.randint(128, 1024)\n",
        "\n",
        "        # Train the discriminator\n",
        "        with tf.GradientTape() as tape:\n",
        "            predictions = self.discriminator(combined_images)\n",
        "            d_loss = self.loss_fn(labels, predictions)\n",
        "        grads = tape.gradient(d_loss, self.discriminator.trainable_weights)\n",
        "        self.d_optimizer.apply_gradients(\n",
        "            zip(grads, self.discriminator.trainable_weights)\n",
        "        )\n",
        "\n",
        "        # Sample random points\n",
        "        np.random.randn(49, self.latent_dim)\n",
        "\n",
        "        # Assemble labels\n",
        "        misleading_labels = tf.zeros((batch_size, 1))\n",
        "\n",
        "        # Train the generator\n",
        "        with tf.GradientTape() as tape:\n",
        "            predictions = self.discriminator(self.generator(random_latent_vectors))\n",
        "            g_loss = self.loss_fn(misleading_labels, predictions)\n",
        "        grads = tape.gradient(g_loss, self.generator.trainable_weights)\n",
        "        self.g_optimizer.apply_gradients(zip(grads, self.generator.trainable_weights))\n",
        "\n",
        "        # Update metrics\n",
        "        self.d_loss_metric.update_state(d_loss)\n",
        "        self.g_loss_metric.update_state(g_loss)\n",
        "        return {\n",
        "            \"d_loss\": self.d_loss_metric.result(),\n",
        "            \"g_loss\": self.g_loss_metric.result(),\n",
        "        }"
      ],
      "metadata": {
        "id": "Job6ImBk0edL"
      },
      "execution_count": null,
      "outputs": []
    },
    {
      "cell_type": "code",
      "source": [
        "class GANMonitor(keras.callbacks.Callback):\n",
        "    def __init__(self, num_img=8, latent_dim=64):\n",
        "        self.num_img = num_img\n",
        "        self.latent_dim = latent_dim\n",
        "\n",
        "    def on_epoch_end(self, epoch, logs=None):\n",
        "        random_latent_vectors = tf.random.normal(shape=(self.num_img, self.latent_dim))\n",
        "        generated_images = self.model.generator(random_latent_vectors)\n",
        "        generated_images *= 255\n",
        "        generated_images.numpy()\n",
        "        for i in range(self.num_img):\n",
        "            img = tf.keras.utils.array_to_img(generated_images[i])\n",
        "            img.save(\"b_generated_img_%03d_%d.png\" % (epoch, i))"
      ],
      "metadata": {
        "id": "85qwLhAj0mB0"
      },
      "execution_count": null,
      "outputs": []
    },
    {
      "cell_type": "code",
      "source": [
        "epochs = 500\n",
        "  \n",
        "global datset\n",
        "global discriminator\n",
        "global generator\n",
        "\n",
        "gan = GAN(discriminator=discriminator, generator=generator, latent_dim=latent_dim)\n",
        "gan.compile(\n",
        "    #The learning rate is how much the model will change each time it gets it wrong\n",
        "    #Optimising in computing is making features of it work more efficiently or using fewer resources\n",
        "    d_optimizer=keras.optimizers.Adam(learning_rate=0.0005),\n",
        "    g_optimizer=keras.optimizers.Adam(learning_rate=0.01),\n",
        "    loss_fn=keras.losses.BinaryCrossentropy(),\n",
        ")\n",
        "\n",
        "gan.fit(\n",
        "    dataset, epochs=epochs, callbacks=[GANMonitor(num_img=8, latent_dim=latent_dim)]\n",
        ")"
      ],
      "metadata": {
        "id": "PV81rzAb0oJg",
        "colab": {
          "base_uri": "https://localhost:8080/"
        },
        "outputId": "ec1c8619-93a7-4b0b-9b04-ccc4af302fbd"
      },
      "execution_count": null,
      "outputs": [
        {
          "output_type": "stream",
          "name": "stdout",
          "text": [
            "Epoch 1/500\n",
            "353/938 [==========>...................] - ETA: 2:18 - d_loss: -452893671424.0000 - g_loss: 470830496.0000"
          ]
        }
      ]
    }
  ]
}